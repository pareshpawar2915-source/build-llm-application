{
  "nbformat": 4,
  "nbformat_minor": 0,
  "metadata": {
    "colab": {
      "provenance": [],
      "machine_shape": "hm",
      "gpuType": "V28",
      "authorship_tag": "ABX9TyNxVGovDIvSH8HcYu3H/eb3",
      "include_colab_link": true
    },
    "kernelspec": {
      "name": "python3",
      "display_name": "Python 3"
    },
    "language_info": {
      "name": "python"
    },
    "accelerator": "TPU"
  },
  "cells": [
    {
      "cell_type": "markdown",
      "metadata": {
        "id": "view-in-github",
        "colab_type": "text"
      },
      "source": [
        "<a href=\"https://colab.research.google.com/github/pareshpawar2915-source/build-llm-application/blob/main/Build_LLM_Application_001.ipynb\" target=\"_parent\"><img src=\"https://colab.research.google.com/assets/colab-badge.svg\" alt=\"Open In Colab\"/></a>"
      ]
    },
    {
      "cell_type": "code",
      "execution_count": null,
      "metadata": {
        "id": "OZXIsL1KeTH7"
      },
      "outputs": [],
      "source": [
        "# Setup\n",
        "import nltk\n",
        "nltk.download('punkt')\n",
        "nltk.download('punkt_tab')\n",
        "\n",
        "from nltk.tokenize import word_tokenize\n",
        "import math\n",
        "\n",
        "# Corpus (example)\n",
        "examples = [\n",
        "    \"The cat is playing in the garden\",\n",
        "    \"A dog and a cat are good pets\",\n",
        "    \"Cats love to chase mice\",\n",
        "    \"Machine learning is based on algorithms\",\n",
        "    \"Deep learning uses neural networks\",\n",
        "    \"Recurrent networks have connections\"\n",
        "]\n",
        "\n",
        "# Tokenize\n",
        "tokenized_docs = [word_tokenize(d) for d in examples]\n",
        "\n",
        "# Build inverted index\n",
        "index = {}\n",
        "for i, doc in enumerate(tokenized_docs):\n",
        "    for word in doc:\n",
        "        if word not in index:\n",
        "            index[word] = []\n",
        "        index[word].append(i)\n",
        "\n",
        "print(\"--- Inverted Index ---\")\n",
        "for k in sorted(index.keys(), key=lambda x: x.lower()):\n",
        "    print(f\"{k}: {index[k]}\")\n"
      ]
    }
  ]
}