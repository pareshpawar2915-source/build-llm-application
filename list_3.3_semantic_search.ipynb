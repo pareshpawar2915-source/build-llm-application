{
  "nbformat": 4,
  "nbformat_minor": 0,
  "metadata": {
    "colab": {
      "provenance": [],
      "machine_shape": "hm",
      "gpuType": "V28",
      "authorship_tag": "ABX9TyOsrrmse8wRxxIwmMtjUgHG",
      "include_colab_link": true
    },
    "kernelspec": {
      "name": "python3",
      "display_name": "Python 3"
    },
    "language_info": {
      "name": "python"
    },
    "accelerator": "TPU"
  },
  "cells": [
    {
      "cell_type": "markdown",
      "metadata": {
        "id": "view-in-github",
        "colab_type": "text"
      },
      "source": [
        "<a href=\"https://colab.research.google.com/github/pareshpawar2915-source/build-llm-application/blob/main/list_3.3_semantic_search.ipynb\" target=\"_parent\"><img src=\"https://colab.research.google.com/assets/colab-badge.svg\" alt=\"Open In Colab\"/></a>"
      ]
    },
    {
      "cell_type": "code",
      "execution_count": 2,
      "metadata": {
        "colab": {
          "base_uri": "https://localhost:8080/"
        },
        "id": "hJomeEQs0apX",
        "outputId": "74967762-5dfd-44fb-98f7-83edc1b5ef34"
      },
      "outputs": [
        {
          "output_type": "stream",
          "name": "stdout",
          "text": [
            "SentenceTransformer(\n",
            "  (0): Transformer({'max_seq_length': 256, 'do_lower_case': False, 'architecture': 'BertModel'})\n",
            "  (1): Pooling({'word_embedding_dimension': 384, 'pooling_mode_cls_token': False, 'pooling_mode_mean_tokens': True, 'pooling_mode_max_tokens': False, 'pooling_mode_mean_sqrt_len_tokens': False, 'pooling_mode_weightedmean_tokens': False, 'pooling_mode_lasttoken': False, 'include_prompt': True})\n",
            "  (2): Normalize()\n",
            ")\n",
            "(6, 384)\n",
            "Example 0: The cat is playing in the garden\n",
            "Score: -0.0488\n",
            "Example 1: A dog and a cat are good pets\n",
            "Score: 0.0633\n",
            "Example 2: Cats love to chase mice\n",
            "Score: 0.0171\n",
            "Example 3: Machine learning is based on algorithms\n",
            "Score: 0.6723\n",
            "Example 4: Deep learning uses neural networks\n",
            "Score: 0.4380\n",
            "Example 5: Recurrent networks have connections\n",
            "Score: 0.3609\n",
            "Most similar document: Machine learning is based on algorithms\n"
          ]
        }
      ],
      "source": [
        "# Step 1A: Install required libraries (run in terminal/Colab)\n",
        "# pip install sentence-transformers scipy pandas\n",
        "\n",
        "# Step 1B: Import libraries and load data\n",
        "from sentence_transformers import SentenceTransformer\n",
        "import scipy.spatial\n",
        "import pandas as pd\n",
        "\n",
        "examples = [\n",
        "    \"The cat is playing in the garden\",\n",
        "    \"A dog and a cat are good pets\",\n",
        "    \"Cats love to chase mice\",\n",
        "    \"Machine learning is based on algorithms\",\n",
        "    \"Deep learning uses neural networks\",\n",
        "    \"Recurrent networks have connections\"\n",
        "]\n",
        "\n",
        "# Step 2: Load pretrained encoder model\n",
        "model = SentenceTransformer('all-MiniLM-L6-v2')\n",
        "print(model)\n",
        "\n",
        "# Step 3: Create embeddings\n",
        "embeddings = model.encode(examples)\n",
        "print(embeddings.shape)  # (6, 384)\n",
        "\n",
        "# Step 4: Define semantic search function\n",
        "def semantic_search(query, embeddings, examples):\n",
        "    query_embedding = model.encode(query)\n",
        "    scores = [scipy.spatial.distance.cosine(query_embedding, doc) for doc in embeddings]\n",
        "    for i, doc in enumerate(examples):\n",
        "        print(f\"Example {i}: {examples[i]}\")\n",
        "        print(f\"Score: {1 - scores[i]:.4f}\")\n",
        "    print(\"Most similar document:\", examples[scores.index(min(scores))])\n",
        "\n",
        "# Step 5: Run a search query\n",
        "semantic_search(\"Machine learning\", embeddings, examples)\n"
      ]
    }
  ]
}