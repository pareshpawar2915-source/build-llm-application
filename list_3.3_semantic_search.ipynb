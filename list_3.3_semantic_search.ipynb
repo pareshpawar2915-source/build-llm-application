{
  "nbformat": 4,
  "nbformat_minor": 0,
  "metadata": {
    "colab": {
      "provenance": [],
      "machine_shape": "hm",
      "gpuType": "V28",
      "authorship_tag": "ABX9TyNp7hwxU7Y0706rN8ixptej",
      "include_colab_link": true
    },
    "kernelspec": {
      "name": "python3",
      "display_name": "Python 3"
    },
    "language_info": {
      "name": "python"
    },
    "accelerator": "TPU"
  },
  "cells": [
    {
      "cell_type": "markdown",
      "metadata": {
        "id": "view-in-github",
        "colab_type": "text"
      },
      "source": [
        "<a href=\"https://colab.research.google.com/github/pareshpawar2915-source/build-llm-application/blob/main/list_3.3_semantic_search.ipynb\" target=\"_parent\"><img src=\"https://colab.research.google.com/assets/colab-badge.svg\" alt=\"Open In Colab\"/></a>"
      ]
    },
    {
      "cell_type": "code",
      "execution_count": null,
      "metadata": {
        "id": "hJomeEQs0apX"
      },
      "outputs": [],
      "source": [
        "# Step 1A: Install required libraries (run in terminal/Colab)\n",
        "# pip install sentence-transformers scipy pandas\n",
        "\n",
        "# Step 1B: Import libraries and load data\n",
        "from sentence_transformers import SentenceTransformer\n",
        "import scipy.spatial\n",
        "import pandas as pd\n",
        "\n",
        "examples = [\n",
        "    \"The cat is playing in the garden\",\n",
        "    \"A dog and a cat are good pets\",\n",
        "    \"Cats love to chase mice\",\n",
        "    \"Machine learning is based on algorithms\",\n",
        "    \"Deep learning uses neural networks\",\n",
        "    \"Recurrent networks have connections\"\n",
        "]"
      ]
    },
    {
      "cell_type": "code",
      "source": [
        "# Step 2: Load pretrained encoder model\n",
        "model = SentenceTransformer('all-MiniLM-L6-v2')\n",
        "print(model)"
      ],
      "metadata": {
        "id": "HAf3omX97mDJ"
      },
      "execution_count": null,
      "outputs": []
    },
    {
      "cell_type": "code",
      "source": [
        "# Step 3: Create embeddings\n",
        "embeddings = model.encode(examples)\n",
        "print(embeddings.shape)  # (6, 384)"
      ],
      "metadata": {
        "id": "CzaZadZi7p-s"
      },
      "execution_count": null,
      "outputs": []
    },
    {
      "cell_type": "code",
      "source": [
        "# Step 4: Define semantic search function\n",
        "def semantic_search(query, embeddings, examples):\n",
        "    query_embedding = model.encode(query)\n",
        "    scores = [scipy.spatial.distance.cosine(query_embedding, doc) for doc in embeddings]\n",
        "    for i, doc in enumerate(examples):\n",
        "        print(f\"Example {i}: {examples[i]}\")\n",
        "        print(f\"Score: {1 - scores[i]:.4f}\")\n",
        "    print(\"Most similar document:\", examples[scores.index(min(scores))])"
      ],
      "metadata": {
        "id": "geyhuLXx7sWF"
      },
      "execution_count": null,
      "outputs": []
    },
    {
      "cell_type": "code",
      "source": [
        "# Step 5: Run a search query\n",
        "semantic_search(\"Machine learning\", embeddings, examples)"
      ],
      "metadata": {
        "id": "FMDLHVqu7vG_"
      },
      "execution_count": null,
      "outputs": []
    }
  ]
}